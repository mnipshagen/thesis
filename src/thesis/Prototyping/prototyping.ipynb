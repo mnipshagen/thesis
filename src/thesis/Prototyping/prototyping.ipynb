{
 "cells": [
  {
   "cell_type": "code",
   "execution_count": 1,
   "metadata": {
    "collapsed": true
   },
   "outputs": [],
   "source": [
    "import numpy as np\n",
    "import pandas as pd\n",
    "import os, os.path"
   ]
  },
  {
   "cell_type": "code",
   "execution_count": 2,
   "metadata": {},
   "outputs": [],
   "source": [
    "vocTrain = pd.read_stata(\"../0_RawData/SC5_spVocTrain_D_11-0-0.dta\", convert_categoricals=False)\n",
    "CATI = pd.read_stata(\"../0_RawData/SC5_pTargetCATI_D_11-0-0.dta\", convert_categoricals=False)"
   ]
  },
  {
   "cell_type": "code",
   "execution_count": 3,
   "metadata": {
    "collapsed": true
   },
   "outputs": [],
   "source": [
    "variables = [\n",
    "    \"ID_t\", # target id \n",
    "    \"wave\", # wave of episode\n",
    "    \"spell\", # spell id\n",
    "    #\"subspell\", # 0 for full episode, 1,2,3 for parts\n",
    "    \"ts15221_v1\", # angestrebter Ausbildungsabschluss\n",
    "    \"ts15219_v1\", # Ausbildungsabschluss: B.Sc, M.Sc, Ausbildung, etc.\n",
    "    \"ts15265\", # Note des Abschluss\n",
    "    \"tg24103\", # Episodenmodus\n",
    "    \"ts15201\", # Ausbildungstyp\n",
    "    \"ts15218\", # Erfolgreicher Abschluss\n",
    "    \"tg24159\", # Fachwechsel gegenüber Vorepisode; 1=same, 2=diff\n",
    "    \"tg24121\", # Hochschulwechsel gegenüber Vorepisode; 1=same, 2=diff\n",
    "    \"ts1512c\", # Andauern der Episode\n",
    "#     \"tg2419a_w1\", # Status in Unterbrechung\n",
    "#     \"tg2419b_w1\", # \"\"\n",
    "#     \"tg2419c_w1\"  # \"\"\n",
    "    \"ts1511m_g1\", # Prüfmodul: Startdatum (Monat, ediert)\n",
    "    \"ts1511y_g1\", # Prüfmodul: Startdatum (Jahr, ediert)\n",
    "    \"ts1512m_g1\", # Prüfmodul: Enddatum (Monat, ediert)\n",
    "    \"ts1512y_g1\", # Prüfmodul: Enddatum (Jahr, ediert)\n",
    "]\n",
    "variables_rename = {\n",
    "    \"ID_t\" : \"stud_ID\",\n",
    "    \"ts15221_v1\" : \"pursued_degree\",\n",
    "    \"ts15219_v1\" : \"achieved_degree\",\n",
    "    \"ts15265\" : \"achieved_grade\",\n",
    "    \"tg24103\" : \"episodemode\",\n",
    "    \"ts15201\" : \"type_of_education\",\n",
    "    \"ts15218\" : \"successfull_graduation\",\n",
    "    \"tg24159\" : \"change_of_field\",\n",
    "    \"tg24121\" : \"change_of_institution\",\n",
    "    \"ts1512c\" : \"current_episode\",\n",
    "    \"ts1511m_g1\" : \"start_month\",\n",
    "    \"ts1511y_g1\" : \"start_year\",\n",
    "    \"ts1512m_g1\" : \"end_month\",\n",
    "    \"ts1512y_g1\" : \"end_year\"\n",
    "}\n",
    "variables_rename_reverse = {v : k for k, v in variables_rename.items()}"
   ]
  },
  {
   "cell_type": "code",
   "execution_count": 4,
   "metadata": {
    "collapsed": true
   },
   "outputs": [],
   "source": [
    "subset = vocTrain[(vocTrain[\"subspell\"] == 0) & (vocTrain.disagint != 1)][variables].rename(columns=variables_rename)"
   ]
  },
  {
   "cell_type": "code",
   "execution_count": 5,
   "metadata": {},
   "outputs": [
    {
     "data": {
      "text/plain": [
       " 1.0     6462\n",
       " 2.0     3102\n",
       "-98.0      12\n",
       "Name: successfull_graduation, dtype: int64"
      ]
     },
     "execution_count": 5,
     "metadata": {},
     "output_type": "execute_result"
    }
   ],
   "source": [
    "relevant_education = [\n",
    "    10, # Studium an einer Universität, auch pädagogische Hochschule, Kunst- und Musikhochschule\n",
    "    9, # Studium an einer Fachhochschule, auch Hochschule für angewandte Wissenschaften oder University of Applied Sciences genannt (nicht Verwaltungsfachhochschule\n",
    "    -28 # Wert aus Rekrutierung pTargetCATI ## might be relevant\n",
    "]\n",
    "relevant_courses_of_study = [\n",
    "    13, # BA ohne Lehramt\n",
    "    #17, # Erstes Staatsexamen Lehramt\n",
    "    8, # BA\n",
    "    12, # BA Lehramt\n",
    "    #-54, # Designbedingt fehlend\n",
    "]\n",
    "curr = subset[\n",
    "    subset.type_of_education.isin(relevant_education) & # filter for uni/fh only\n",
    "    subset.pursued_degree.isin(relevant_courses_of_study) # filter bachelor only\n",
    "]\n",
    "curr.successfull_graduation.value_counts()"
   ]
  },
  {
   "cell_type": "code",
   "execution_count": 6,
   "metadata": {},
   "outputs": [
    {
     "data": {
      "text/plain": [
       "-54    54540\n",
       " 3     10854\n",
       " 2      3671\n",
       " 1      1883\n",
       " 4      1428\n",
       " 8        45\n",
       " 5        19\n",
       " 7         7\n",
       " 6         3\n",
       "Name: tg02001, dtype: int64"
      ]
     },
     "execution_count": 6,
     "metadata": {},
     "output_type": "execute_result"
    }
   ],
   "source": [
    "CATI.tg02001.value_counts() # 1 BA Lehramt, 3 BA"
   ]
  },
  {
   "cell_type": "markdown",
   "metadata": {},
   "source": [
    "### Joining Information and Considering Dropped Cases\n",
    "Since the first wave information on intended degree is not in spVocTrain, but only in pCATI, we will join that one column into our dataframe.\n",
    "\n",
    "#### Dropped Students\n",
    "NEPS considers a change of university dropping out, which I do not. This will needed to be filtered for. I also need to find a way to clean and rebuild the data in a concise one-row format, instead of the episodes being spread out over multiple.\n",
    "\n",
    "##### Figuring out\n",
    "Things to look out for:\n",
    "* Weird disagreeing spells\n",
    "* No sucessfull graduation (2)\n",
    "    * With no spell afterwards\n",
    "    * With a spell afterwards, but a change of subject\n",
    "\n",
    "##### To be considered\n",
    "Dropped out, if ts15218 \"succesfull graduation\" has a value of 2 \"no\", spells of interest are students doing some bachelor degree at a university \"Universität\" or school of applied science \"Fachhochschule\".\n",
    "\n",
    "Cases:\n",
    "* dropped out -> no further spell of interest ✓\n",
    "* dropped out -> spell of interest\n",
    "    * -> changed subject, irrelevant of change of institution ✓\n",
    "    * -> changed institution, but not subject ☓"
   ]
  },
  {
   "cell_type": "code",
   "execution_count": 7,
   "metadata": {
    "scrolled": false
   },
   "outputs": [],
   "source": [
    "# prepare subset of CATI for joining\n",
    "other = CATI[\n",
    "    CATI.wave == 1 & # the question was only asked in wave 1, and this way ID_t becomes the unique identifier\n",
    "    CATI.tg02001.isin([1,3]) # filter for 3=BA and 1=BA Lehramt only\n",
    "][[\"tg02001\", \"ID_t\"]] # ID_t to join on, tg02001 holds the pursued degree\n",
    "\n",
    "# join CATI subset into dataframe for more complete sample\n",
    "curr = curr.join(other.set_index(\"ID_t\"), on=\"stud_ID\").rename(columns={\"tg02001\" : \"CATI_pursued_degree\"}) # integrate tg02001 into df to fill in ts15201 -28\n",
    "# filter out those rows that CATI added nothing too, meaning those without information on pursued degree even after joining\n",
    "curr = curr[curr.type_of_education != -28 | (curr.type_of_education == -28 & ~curr.CATI_pursued_degree.isnull())]\n",
    "\n",
    "# reorder columns in tmp dataframe for a nicer overview, moving joined CATI degree next to vocTrain degree\n",
    "cols = list(curr.columns)\n",
    "purs_deg_idx = cols.index(variables_rename[\"ts15221_v1\"]) + 1\n",
    "cols = cols[:purs_deg_idx] + cols[-1:] + cols[purs_deg_idx:-1]\n",
    "curr = curr[cols]"
   ]
  },
  {
   "cell_type": "code",
   "execution_count": 8,
   "metadata": {
    "scrolled": false
   },
   "outputs": [
    {
     "name": "stdout",
     "output_type": "stream",
     "text": [
      "No further spell of interest...................... 1000\n",
      "Change of field................................... 1228\n",
      "Total of useful cases............................. 2228\n",
      "\n",
      "Total spells with unsuccesfull graduation......... 3102\n",
      "Filtered out spells with no graduation:...........  874\n",
      "\n",
      "Total number of succesfull graduations............ 6462\n"
     ]
    }
   ],
   "source": [
    "# filter out all students who have one spell with an unsuccesfull graduation\n",
    "dropped_students = curr[(curr.successfull_graduation == 2)].stud_ID.unique()\n",
    "dropped = curr[curr.stud_ID.isin(dropped_students)]\n",
    "\n",
    "# check how many samples we have per condition\n",
    "## dropped out -> no further spell of interest\n",
    "case1 = dropped[\n",
    "    (dropped.successfull_graduation == 2) &\n",
    "    (dropped.stud_ID.isin(dropped.stud_ID.value_counts()[dropped.stud_ID.value_counts() == 1].index))\n",
    "].shape[0]\n",
    "\n",
    "## dropped out -> spell of interest\n",
    "### -> changed subject, irrelevant of change of institution\n",
    "# find all those who failed and have any preluding or subsequent spell\n",
    "tmp = dropped[\n",
    "    (dropped.successfull_graduation == 2) &\n",
    "    (dropped.stud_ID.isin(dropped.stud_ID.value_counts()[dropped.stud_ID.value_counts() > 1].index))\n",
    "]\n",
    "# shift up all rows by one, then select those indices we filtered above\n",
    "# this gives us the possibility to compare two subsequent rows using the same index\n",
    "tmp2 = dropped.shift(-1).loc[tmp.index]\n",
    "# We only want to compare rows for the same student, and then filter those who actually changed subject\n",
    "# leaving out those who only switched institutions or had other reasons for ending their spell\n",
    "# and also leaving out possible mismatches, where all recorded spells of interest were unsuccesfull,\n",
    "# and thus the following row is already for the next student\n",
    "tmp2 = tmp2[\n",
    "    (tmp2.stud_ID == tmp.stud_ID) & \n",
    "    (tmp2.change_of_field == 2)\n",
    "]\n",
    "case2 = tmp2.shape[0]\n",
    "\n",
    "# control\n",
    "control = dropped[dropped.successfull_graduation == 2].shape[0]\n",
    "# succesfull grads\n",
    "succ = curr[curr.successfull_graduation == 1].shape[0]\n",
    "\n",
    "# and readable output\n",
    "width = 50\n",
    "print(\n",
    "    f\"{'No further spell of interest':.<{width}}{case1:5}\",\n",
    "    f\"{'Change of field':.<{width}}{case2:5}\",\n",
    "    f\"{'Total of useful cases':.<{width}}{case1 + case2:5}\",\n",
    "    \"\",\n",
    "    f\"{'Total spells with unsuccesfull graduation':.<{width}}{control:5}\",\n",
    "    f\"{'Filtered out spells with no graduation:':.<{width}}{control - case1 - case2:5}\",\n",
    "    \"\",\n",
    "    f\"{'Total number of succesfull graduations':.<{width}}{succ:5}\",\n",
    "    sep=\"\\n\"\n",
    ")"
   ]
  },
  {
   "cell_type": "code",
   "execution_count": 9,
   "metadata": {
    "scrolled": false
   },
   "outputs": [
    {
     "ename": "AttributeError",
     "evalue": "'DataFrame' object has no attribute 'tmp'",
     "output_type": "error",
     "traceback": [
      "\u001b[1;31m---------------------------------------------------------------------------\u001b[0m",
      "\u001b[1;31mAttributeError\u001b[0m                            Traceback (most recent call last)",
      "\u001b[1;32m<ipython-input-9-bcb7a2214ebc>\u001b[0m in \u001b[0;36m<module>\u001b[1;34m\u001b[0m\n\u001b[0;32m      8\u001b[0m             \u001b[1;33m(\u001b[0m\u001b[0mcurr\u001b[0m\u001b[1;33m.\u001b[0m\u001b[0msuccessfull_graduation\u001b[0m \u001b[1;33m==\u001b[0m \u001b[1;36m2\u001b[0m\u001b[1;33m)\u001b[0m\u001b[1;33m\u001b[0m\u001b[1;33m\u001b[0m\u001b[0m\n\u001b[0;32m      9\u001b[0m             \u001b[1;33m&\u001b[0m \u001b[1;33m(\u001b[0m\u001b[0mdropped\u001b[0m\u001b[1;33m.\u001b[0m\u001b[0mstud_ID\u001b[0m\u001b[1;33m.\u001b[0m\u001b[0misin\u001b[0m\u001b[1;33m(\u001b[0m\u001b[0mdropped\u001b[0m\u001b[1;33m.\u001b[0m\u001b[0mstud_ID\u001b[0m\u001b[1;33m.\u001b[0m\u001b[0mvalue_counts\u001b[0m\u001b[1;33m(\u001b[0m\u001b[1;33m)\u001b[0m\u001b[1;33m[\u001b[0m\u001b[0mdropped\u001b[0m\u001b[1;33m.\u001b[0m\u001b[0mstud_ID\u001b[0m\u001b[1;33m.\u001b[0m\u001b[0mvalue_counts\u001b[0m\u001b[1;33m(\u001b[0m\u001b[1;33m)\u001b[0m \u001b[1;33m>\u001b[0m \u001b[1;36m1\u001b[0m\u001b[1;33m]\u001b[0m\u001b[1;33m.\u001b[0m\u001b[0mindex\u001b[0m\u001b[1;33m)\u001b[0m\u001b[1;33m)\u001b[0m\u001b[1;33m\u001b[0m\u001b[1;33m\u001b[0m\u001b[0m\n\u001b[1;32m---> 10\u001b[1;33m             \u001b[1;33m&\u001b[0m \u001b[1;33m(\u001b[0m\u001b[1;33m~\u001b[0m\u001b[0mcurr\u001b[0m\u001b[1;33m.\u001b[0m\u001b[0mtmp\u001b[0m\u001b[1;33m.\u001b[0m\u001b[0misin\u001b[0m\u001b[1;33m(\u001b[0m\u001b[0mtmp\u001b[0m\u001b[1;33m.\u001b[0m\u001b[0mtmp\u001b[0m\u001b[1;33m)\u001b[0m\u001b[1;33m)\u001b[0m\u001b[1;33m\u001b[0m\u001b[1;33m\u001b[0m\u001b[0m\n\u001b[0m\u001b[0;32m     11\u001b[0m         ].stud_ID.unique()\n\u001b[0;32m     12\u001b[0m     )\n",
      "\u001b[1;32mC:\\Dev\\Anaconda3\\envs\\stat\\lib\\site-packages\\pandas\\core\\generic.py\u001b[0m in \u001b[0;36m__getattr__\u001b[1;34m(self, name)\u001b[0m\n\u001b[0;32m   4374\u001b[0m             \u001b[1;32mif\u001b[0m \u001b[0mself\u001b[0m\u001b[1;33m.\u001b[0m\u001b[0m_info_axis\u001b[0m\u001b[1;33m.\u001b[0m\u001b[0m_can_hold_identifiers_and_holds_name\u001b[0m\u001b[1;33m(\u001b[0m\u001b[0mname\u001b[0m\u001b[1;33m)\u001b[0m\u001b[1;33m:\u001b[0m\u001b[1;33m\u001b[0m\u001b[1;33m\u001b[0m\u001b[0m\n\u001b[0;32m   4375\u001b[0m                 \u001b[1;32mreturn\u001b[0m \u001b[0mself\u001b[0m\u001b[1;33m[\u001b[0m\u001b[0mname\u001b[0m\u001b[1;33m]\u001b[0m\u001b[1;33m\u001b[0m\u001b[1;33m\u001b[0m\u001b[0m\n\u001b[1;32m-> 4376\u001b[1;33m             \u001b[1;32mreturn\u001b[0m \u001b[0mobject\u001b[0m\u001b[1;33m.\u001b[0m\u001b[0m__getattribute__\u001b[0m\u001b[1;33m(\u001b[0m\u001b[0mself\u001b[0m\u001b[1;33m,\u001b[0m \u001b[0mname\u001b[0m\u001b[1;33m)\u001b[0m\u001b[1;33m\u001b[0m\u001b[1;33m\u001b[0m\u001b[0m\n\u001b[0m\u001b[0;32m   4377\u001b[0m \u001b[1;33m\u001b[0m\u001b[0m\n\u001b[0;32m   4378\u001b[0m     \u001b[1;32mdef\u001b[0m \u001b[0m__setattr__\u001b[0m\u001b[1;33m(\u001b[0m\u001b[0mself\u001b[0m\u001b[1;33m,\u001b[0m \u001b[0mname\u001b[0m\u001b[1;33m,\u001b[0m \u001b[0mvalue\u001b[0m\u001b[1;33m)\u001b[0m\u001b[1;33m:\u001b[0m\u001b[1;33m\u001b[0m\u001b[1;33m\u001b[0m\u001b[0m\n",
      "\u001b[1;31mAttributeError\u001b[0m: 'DataFrame' object has no attribute 'tmp'"
     ]
    }
   ],
   "source": [
    "### The rest\n",
    "curr['tmp'] = curr.stud_ID.astype(np.uint32).astype(str) + \"_\" + curr.wave.astype(np.uint32).astype(str) + \"_\" + curr.spell.astype(np.uint32).astype(str)\n",
    "tmp.loc[tmp2.index]['tmp'] = (tmp.stud_ID.astype(np.uint32).astype(str) + \"_\" + tmp.wave.astype(np.uint32).astype(str) + \"_\" + tmp.spell.astype(np.uint32).astype(str)).loc[tmp2.index]\n",
    "\n",
    "curr[\n",
    "    curr.stud_ID.isin(\n",
    "        curr[\n",
    "            (curr.successfull_graduation == 2)\n",
    "            & (dropped.stud_ID.isin(dropped.stud_ID.value_counts()[dropped.stud_ID.value_counts() > 1].index))\n",
    "            & (~curr.tmp.isin(tmp.tmp))\n",
    "        ].stud_ID.unique()\n",
    "    )\n",
    "]\n",
    "df = pd.DataFrame([curr.tmp[curr.successfull_graduation==2], tmp.tmp]).T\n",
    "df.columns=[\"curr\",\"tmp\"]\n",
    "df[df.tmp == df.curr].curr.shape"
   ]
  },
  {
   "cell_type": "markdown",
   "metadata": {},
   "source": []
  }
 ],
 "metadata": {
  "kernelspec": {
   "display_name": "Python 3",
   "language": "python",
   "name": "python3"
  },
  "language_info": {
   "codemirror_mode": {
    "name": "ipython",
    "version": 3
   },
   "file_extension": ".py",
   "mimetype": "text/x-python",
   "name": "python",
   "nbconvert_exporter": "python",
   "pygments_lexer": "ipython3",
   "version": "3.7.1"
  }
 },
 "nbformat": 4,
 "nbformat_minor": 2
}
