{
 "cells": [
  {
   "cell_type": "code",
   "execution_count": 2,
   "metadata": {
    "collapsed": true
   },
   "outputs": [],
   "source": [
    "import pandas as pd\n",
    "import os, os.path"
   ]
  },
  {
   "cell_type": "code",
   "execution_count": 7,
   "metadata": {},
   "outputs": [],
   "source": [
    "vocTrain = pd.read_stata(\"../Stata/SC5_spVocTrain_D_11-0-0.dta\")"
   ]
  },
  {
   "cell_type": "code",
   "execution_count": 9,
   "metadata": {},
   "outputs": [
    {
     "data": {
      "text/plain": [
       "Index(['ID_t', 'ID_i', 'wave', 'splink', 'spell', 'subspell', 'spgen', 'spext',\n",
       "       'spstat', 'disagint',\n",
       "       ...\n",
       "       'tg24204', 'tg24205', 'tg24205_v1', 'ts15223', 'tg2495a', 'tg2495b',\n",
       "       'tg2495c', 'tg2495d', 'tg24200', 'Version_z24_8'],\n",
       "      dtype='object', length=195)"
      ]
     },
     "execution_count": 9,
     "metadata": {},
     "output_type": "execute_result"
    }
   ],
   "source": [
    "vocTrain.columns"
   ]
  },
  {
   "cell_type": "code",
   "execution_count": 12,
   "metadata": {
    "collapsed": true
   },
   "outputs": [],
   "source": [
    "variables = [\n",
    "    \"ID_t\", # target id \n",
    "    \"wave\", # wave of episode\n",
    "    \"spell\", # spell id\n",
    "    \"subspell\", # 0 for full episode, 1,2,3 for parts\n",
    "    \"ts15219\", # Ausbildungsabschluss: B.Sc, M.Sc, Ausbildung, etc.\n",
    "    \"ts15265\", # Note des Abschluss\n",
    "    \"tg24103\", # Episodenmodus\n",
    "    \"ts15201\", # Ausbildungstyp\n",
    "    \"tg24159\", # Fachwechsel gegenüber Vorepisode\n",
    "    \"ts1512c\", # Andauern der Episode\n",
    "    \"ts15218\", # Erfolgreicher Abschluss\n",
    "    \"tg2419a_w1\", # Status in Unterbrechung\n",
    "    \"tg2419b_w1\", # \"\"\n",
    "    \"tg2419c_w1\"  # \"\"\n",
    "]"
   ]
  },
  {
   "cell_type": "code",
   "execution_count": 13,
   "metadata": {},
   "outputs": [],
   "source": [
    "subset = vocTrain[variables]"
   ]
  },
  {
   "cell_type": "code",
   "execution_count": null,
   "metadata": {
    "collapsed": true
   },
   "outputs": [],
   "source": []
  }
 ],
 "metadata": {
  "kernelspec": {
   "display_name": "Python 3",
   "language": "python",
   "name": "python3"
  },
  "language_info": {
   "codemirror_mode": {
    "name": "ipython",
    "version": 3
   },
   "file_extension": ".py",
   "mimetype": "text/x-python",
   "name": "python",
   "nbconvert_exporter": "python",
   "pygments_lexer": "ipython3",
   "version": "3.6.3"
  }
 },
 "nbformat": 4,
 "nbformat_minor": 2
}
